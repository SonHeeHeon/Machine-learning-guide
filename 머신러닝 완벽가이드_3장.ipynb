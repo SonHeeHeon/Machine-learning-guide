{
 "cells": [
  {
   "cell_type": "markdown",
   "metadata": {},
   "source": [
    "# 머신러닝 완벽가이드"
   ]
  },
  {
   "cell_type": "markdown",
   "metadata": {},
   "source": [
    "## 3장 평가"
   ]
  },
  {
   "cell_type": "markdown",
   "metadata": {},
   "source": [
    "+ 분류의 성능 평가 지표 : \n",
    " 1. 정확도\n",
    " 2. 오차행렬\n",
    " 3. 정밀도\n",
    " 4. 재현율\n",
    " 5. F1스코어\n",
    " 6. ROC AUC"
   ]
  },
  {
   "cell_type": "markdown",
   "metadata": {},
   "source": [
    "### 1. 정확도"
   ]
  },
  {
   "cell_type": "code",
   "execution_count": 39,
   "metadata": {},
   "outputs": [],
   "source": [
    "from sklearn.datasets import load_digits\n",
    "from sklearn.model_selection import train_test_split\n",
    "from sklearn.base import BaseEstimator\n",
    "from sklearn.metrics import accuracy_score\n",
    "import numpy as np\n",
    "import pandas as pd"
   ]
  },
  {
   "cell_type": "code",
   "execution_count": 45,
   "metadata": {},
   "outputs": [
    {
     "name": "stdout",
     "output_type": "stream",
     "text": [
      "(360,)\n",
      "0    323\n",
      "1     37\n",
      "dtype: int64\n"
     ]
    }
   ],
   "source": [
    "class MyFakeClassifier(BaseEstimator):\n",
    "    # fit 에선 아무것도 학습하지 않는다\n",
    "    def fit(self,X,y):\n",
    "        pass\n",
    "    # 입력값으로 들어오는 x데이터 세트의 크기만큼 모두 0값으로 만들어서 반환\n",
    "    def predict(self,X):\n",
    "        return np.zeros((len(X),1),dtype=bool)\n",
    "digits=load_digits() #MNIST 데이터\n",
    "y=(digits.target==7).astype(int)\n",
    "x_train,x_test,y_train,y_test=train_test_split(digits.data,y,test_size=0.2,random_state=True)\n",
    "print(pd.Series(y_test).value_counts()) # 불균형함"
   ]
  },
  {
   "cell_type": "code",
   "execution_count": 46,
   "metadata": {},
   "outputs": [
    {
     "data": {
      "text/plain": [
       "0.8972222222222223"
      ]
     },
     "execution_count": 46,
     "metadata": {},
     "output_type": "execute_result"
    }
   ],
   "source": [
    "fakeclf=MyFakeClassifier()\n",
    "fakeclf.fit(x_train,y_train)\n",
    "fakepred=fakeclf.predict(x_test)\n",
    "accuracy_score(y_test,fakepred)"
   ]
  },
  {
   "cell_type": "markdown",
   "metadata": {},
   "source": [
    "모든 예측을 0으로 하여도 정확도는 0.900 => accuracy로만 판단하면 안된다!(불균형 데이터 셋에서 성능 수치로 사용돼서는 안됨)\n",
    "=> 다른 방법 이용!"
   ]
  },
  {
   "cell_type": "markdown",
   "metadata": {},
   "source": [
    "+ 추가! (데이터프레임에서 문자열을 숫자로 변환하기)"
   ]
  },
  {
   "cell_type": "code",
   "execution_count": 26,
   "metadata": {},
   "outputs": [
    {
     "name": "stdout",
     "output_type": "stream",
     "text": [
      "  col_str_1 col_str_2 col_str_3\n",
      "0         1         4       7.0\n",
      "1         2         5       8.1\n",
      "2         3         6       9.2\n"
     ]
    }
   ],
   "source": [
    "df = pd.DataFrame({'col_str_1': ['1', '2', '3'], \n",
    "                   'col_str_2': ['4', '5', '6'], \n",
    "                   'col_str_3': ['7.0', '8.1', '9.2']})\n",
    "print(df)"
   ]
  },
  {
   "cell_type": "code",
   "execution_count": 27,
   "metadata": {},
   "outputs": [
    {
     "name": "stdout",
     "output_type": "stream",
     "text": [
      "<class 'str'>\n",
      "col_str_1    object\n",
      "col_str_2    object\n",
      "col_str_3    object\n",
      "dtype: object\n"
     ]
    }
   ],
   "source": [
    "print(type(df['col_str_1'][0]))\n",
    "print(df.dtypes)"
   ]
  },
  {
   "cell_type": "markdown",
   "metadata": {},
   "source": [
    "데이터 프레임 각 열 type 조사 : dtype"
   ]
  },
  {
   "cell_type": "code",
   "execution_count": 29,
   "metadata": {},
   "outputs": [
    {
     "name": "stdout",
     "output_type": "stream",
     "text": [
      "  col_str_1 col_str_2 col_str_3  col_int_1  col_int_2\n",
      "0         1         4       7.0          1          4\n",
      "1         2         5       8.1          2          5\n",
      "2         3         6       9.2          3          6\n"
     ]
    }
   ],
   "source": [
    "df[['col_int_1','col_int_2']]=df[['col_str_1','col_str_2']].apply(pd.to_numeric)\n",
    "print(df)"
   ]
  },
  {
   "cell_type": "code",
   "execution_count": 37,
   "metadata": {},
   "outputs": [],
   "source": [
    "df['col_int_3']=df['col_str_3'].astype(float) # . 이 있으면 int로 바로 전환 안됨 => float 이용하기"
   ]
  },
  {
   "cell_type": "markdown",
   "metadata": {},
   "source": [
    "### 2. 오차 행렬"
   ]
  },
  {
   "cell_type": "code",
   "execution_count": 47,
   "metadata": {},
   "outputs": [],
   "source": [
    "from sklearn.metrics import confusion_matrix"
   ]
  },
  {
   "cell_type": "code",
   "execution_count": 48,
   "metadata": {},
   "outputs": [
    {
     "data": {
      "text/plain": [
       "array([[323,   0],\n",
       "       [ 37,   0]], dtype=int64)"
      ]
     },
     "execution_count": 48,
     "metadata": {},
     "output_type": "execute_result"
    }
   ],
   "source": [
    "confusion_matrix(y_test,fakepred)"
   ]
  },
  {
   "cell_type": "markdown",
   "metadata": {},
   "source": [
    "보통 불균형한 레이블 클래스를 가지는 이진분류 모델에서는 많은 데이터 중에서 중점적으로 찾아야 하는 매우 적은수의 결괏값에 positive를 설정해 1값을 부여하고 그렇지않은 경우는 negative로 0값을 부여"
   ]
  },
  {
   "cell_type": "markdown",
   "metadata": {},
   "source": [
    "보통 불균형 데이터에서 accuracy로 측정하면 정확도가 높은 방향ㅇ인 negative를 맞추는 방식으로 많이 추진 => 모델 신뢰도가 떨어진다 \n",
    "\n",
    "So, 불균형 데이터에서는 정확도 보다 더 선호되는 평가지표인 정밀도와 재현율"
   ]
  },
  {
   "cell_type": "markdown",
   "metadata": {},
   "source": [
    "### 3. 정밀도와 재현율"
   ]
  },
  {
   "cell_type": "markdown",
   "metadata": {},
   "source": [
    "positive 데이터 셋 예측성능에 더 초점을 맞춘 평가 지표"
   ]
  },
  {
   "cell_type": "markdown",
   "metadata": {},
   "source": [
    "+ 정밀도 = TP / (FP+TP) : 예측을 Positive로 한 대상중에 예측과 실제 값이 Positive로 일치한 데이터의 비율 <양성 예측 성능을 더욱 정밀하게 측정하기 위한 평가지표>\n",
    "+ 재현율 = TP / (FN+TP) : 실제 Positive인 대상 중에 예측과 실제값이 Positive로 일치한 데이터의 비율(=민감도)\n",
    " \n",
    " 재현율이 중요지표인 경우는 실제 positive 양성 데이터를 negative로 잘못 판단하게 되면 업무상 큰 영향이 발생하는 경우\n",
    " \n",
    " => 보험 사기(금육 사기 적발 모델) => 실제 금융 거래 사기인 positive 건을 negative로 잘못 판단하게 되면 회사에 미치는 손해가 큼\n",
    " \n",
    " 즉 , 실제 positive 인데 negative로 판단하면 비용이 큰 경우\n",
    " \n",
    " 보통 재현율이 정밀도 보다 중요한 경우가 많지만 정밀도가 더 중요한 지표인 경우도 있음\n",
    " \n",
    " => ex) 스팸메일판단 여부 : 실제 positive인 스팸메일을 negative로 분류하더라도 사용자가 불편함을 느끼는 정도이지만 실제 negative인 일반 메일을 스팸메일로 분류할 겨우에는 메일을 아예 받지 못하게 돼 업무에 차질\n",
    " \n",
    " 즉, 실제 negative 인데 positive로 판단하면 비용이 큰 경우"
   ]
  },
  {
   "cell_type": "markdown",
   "metadata": {},
   "source": [
    "So, 재현율과 정밀도 모두 TP를 높이는데 동일하게 초점을 맞추지만, 재현율은 fn을 낮추는데 정밀도는 fp를 낮추는데 초점"
   ]
  },
  {
   "cell_type": "code",
   "execution_count": 50,
   "metadata": {},
   "outputs": [],
   "source": [
    "from sklearn.metrics import precision_score # 정밀도\n",
    "from sklearn.metrics import recall_score # 재현율"
   ]
  },
  {
   "cell_type": "code",
   "execution_count": 51,
   "metadata": {},
   "outputs": [],
   "source": [
    "def get_clf_eval(y_test,pred):\n",
    "    confusion=confusion_matrix(y_test,pred)\n",
    "    accuracy=accuracy_score(y_test,pred)\n",
    "    precision=precision_score(y_test,pred)\n",
    "    recall=recall_score(y_test,pred)\n",
    "    print('오차행렬')\n",
    "    print(confusion)\n",
    "    print('정확도:{}, 정밀도:{}, 재현율:{}'.format(accuracy,precision,recall))"
   ]
  },
  {
   "cell_type": "code",
   "execution_count": 61,
   "metadata": {},
   "outputs": [],
   "source": [
    "import pandas as pd\n",
    "from sklearn.model_selection import train_test_split\n",
    "from sklearn.linear_model import LogisticRegression\n",
    "from sklearn.preprocessing import LabelEncoder"
   ]
  },
  {
   "cell_type": "code",
   "execution_count": 62,
   "metadata": {},
   "outputs": [
    {
     "data": {
      "text/html": [
       "<div>\n",
       "<style scoped>\n",
       "    .dataframe tbody tr th:only-of-type {\n",
       "        vertical-align: middle;\n",
       "    }\n",
       "\n",
       "    .dataframe tbody tr th {\n",
       "        vertical-align: top;\n",
       "    }\n",
       "\n",
       "    .dataframe thead th {\n",
       "        text-align: right;\n",
       "    }\n",
       "</style>\n",
       "<table border=\"1\" class=\"dataframe\">\n",
       "  <thead>\n",
       "    <tr style=\"text-align: right;\">\n",
       "      <th></th>\n",
       "      <th>PassengerId</th>\n",
       "      <th>Pclass</th>\n",
       "      <th>Name</th>\n",
       "      <th>Sex</th>\n",
       "      <th>Age</th>\n",
       "      <th>SibSp</th>\n",
       "      <th>Parch</th>\n",
       "      <th>Ticket</th>\n",
       "      <th>Fare</th>\n",
       "      <th>Cabin</th>\n",
       "      <th>Embarked</th>\n",
       "    </tr>\n",
       "  </thead>\n",
       "  <tbody>\n",
       "    <tr>\n",
       "      <th>0</th>\n",
       "      <td>1</td>\n",
       "      <td>3</td>\n",
       "      <td>Braund, Mr. Owen Harris</td>\n",
       "      <td>male</td>\n",
       "      <td>22.0</td>\n",
       "      <td>1</td>\n",
       "      <td>0</td>\n",
       "      <td>A/5 21171</td>\n",
       "      <td>7.2500</td>\n",
       "      <td>NaN</td>\n",
       "      <td>S</td>\n",
       "    </tr>\n",
       "    <tr>\n",
       "      <th>1</th>\n",
       "      <td>2</td>\n",
       "      <td>1</td>\n",
       "      <td>Cumings, Mrs. John Bradley (Florence Briggs Th...</td>\n",
       "      <td>female</td>\n",
       "      <td>38.0</td>\n",
       "      <td>1</td>\n",
       "      <td>0</td>\n",
       "      <td>PC 17599</td>\n",
       "      <td>71.2833</td>\n",
       "      <td>C85</td>\n",
       "      <td>C</td>\n",
       "    </tr>\n",
       "    <tr>\n",
       "      <th>2</th>\n",
       "      <td>3</td>\n",
       "      <td>3</td>\n",
       "      <td>Heikkinen, Miss. Laina</td>\n",
       "      <td>female</td>\n",
       "      <td>26.0</td>\n",
       "      <td>0</td>\n",
       "      <td>0</td>\n",
       "      <td>STON/O2. 3101282</td>\n",
       "      <td>7.9250</td>\n",
       "      <td>NaN</td>\n",
       "      <td>S</td>\n",
       "    </tr>\n",
       "    <tr>\n",
       "      <th>3</th>\n",
       "      <td>4</td>\n",
       "      <td>1</td>\n",
       "      <td>Futrelle, Mrs. Jacques Heath (Lily May Peel)</td>\n",
       "      <td>female</td>\n",
       "      <td>35.0</td>\n",
       "      <td>1</td>\n",
       "      <td>0</td>\n",
       "      <td>113803</td>\n",
       "      <td>53.1000</td>\n",
       "      <td>C123</td>\n",
       "      <td>S</td>\n",
       "    </tr>\n",
       "  </tbody>\n",
       "</table>\n",
       "</div>"
      ],
      "text/plain": [
       "   PassengerId  Pclass                                               Name  \\\n",
       "0            1       3                            Braund, Mr. Owen Harris   \n",
       "1            2       1  Cumings, Mrs. John Bradley (Florence Briggs Th...   \n",
       "2            3       3                             Heikkinen, Miss. Laina   \n",
       "3            4       1       Futrelle, Mrs. Jacques Heath (Lily May Peel)   \n",
       "\n",
       "      Sex   Age  SibSp  Parch            Ticket     Fare Cabin Embarked  \n",
       "0    male  22.0      1      0         A/5 21171   7.2500   NaN        S  \n",
       "1  female  38.0      1      0          PC 17599  71.2833   C85        C  \n",
       "2  female  26.0      0      0  STON/O2. 3101282   7.9250   NaN        S  \n",
       "3  female  35.0      1      0            113803  53.1000  C123        S  "
      ]
     },
     "execution_count": 62,
     "metadata": {},
     "output_type": "execute_result"
    }
   ],
   "source": [
    "titanic_df=pd.read_csv('C:/Desktop/Son/titanic/train.csv',engine='python')\n",
    "y_titanic_df=titanic_df['Survived']\n",
    "x_titanic_df=titanic_df.drop('Survived',axis=1)\n",
    "x_titanic_df.head(4)"
   ]
  },
  {
   "cell_type": "code",
   "execution_count": 63,
   "metadata": {},
   "outputs": [],
   "source": [
    "# Null 처리 함수\n",
    "def fillna(df):\n",
    "    df['Age'].fillna(df['Age'].mean(),inplace=True)\n",
    "    df['Cabin'].fillna('N',inplace=True)\n",
    "    df['Embarked'].fillna('N',inplace=True)\n",
    "    df['Fare'].fillna(0,inplace=True)\n",
    "    return df\n",
    "# 머신러닝 알고리즘에 불필요한 속성제거\n",
    "def drop_features(df):\n",
    "    df.drop(['PassengerId','Name','Ticket'],axis=1,inplace=True)\n",
    "    return df\n",
    "# 레이블 인코딩 수행\n",
    "def format_features(df):\n",
    "    df['Cabin']=df['Cabin'].str[:1]\n",
    "    features=['Cabin','Sex','Embarked']\n",
    "    for feature in features:\n",
    "        le=LabelEncoder()\n",
    "        le=le.fit(df[feature])\n",
    "        df[feature]=le.transform(df[feature])\n",
    "    return df\n",
    "# 앞에서 설정한 데이터 전처리 함수 호출\n",
    "def transform_features(df):\n",
    "    df=fillna(df)\n",
    "    df=drop_features(df)\n",
    "    df=format_features(df)\n",
    "transform_features(x_titanic_df)\n",
    "x_titanic_df.head(3)"
   ]
  },
  {
   "cell_type": "code",
   "execution_count": 67,
   "metadata": {},
   "outputs": [
    {
     "name": "stdout",
     "output_type": "stream",
     "text": [
      "오차행렬\n",
      "[[108  10]\n",
      " [ 14  47]]\n",
      "정확도:0.8659217877094972, 정밀도:0.8245614035087719, 재현율:0.7704918032786885\n",
      "None\n"
     ]
    }
   ],
   "source": [
    "train_x,test_x,train_y,test_y=train_test_split(x_titanic_df,y_titanic_df,test_size=0.2,random_state=11)\n",
    "lr_clf=LogisticRegression()\n",
    "lr_clf.fit(train_x,train_y)\n",
    "pred_1=lr_clf.predict(test_x)\n",
    "x=get_clf_eval(test_y,pred_1)\n",
    "print(x)"
   ]
  },
  {
   "cell_type": "markdown",
   "metadata": {},
   "source": [
    "+ 정밀도/재현율 트레이드오프"
   ]
  },
  {
   "cell_type": "code",
   "execution_count": 76,
   "metadata": {},
   "outputs": [
    {
     "name": "stdout",
     "output_type": "stream",
     "text": [
      "[[0.44935228 0.55064772]\n",
      " [0.86335513 0.13664487]\n",
      " [0.86429645 0.13570355]\n",
      " [0.84968519 0.15031481]\n",
      " [0.82343411 0.17656589]\n",
      " [0.84231224 0.15768776]\n",
      " [0.87095491 0.12904509]\n",
      " [0.27228604 0.72771396]\n",
      " [0.78185129 0.21814871]\n",
      " [0.33185992 0.66814008]\n",
      " [0.86178764 0.13821236]\n",
      " [0.870581   0.129419  ]\n",
      " [0.86425952 0.13574048]\n",
      " [0.87065946 0.12934054]\n",
      " [0.56033547 0.43966453]\n",
      " [0.85003024 0.14996976]\n",
      " [0.88954174 0.11045826]\n",
      " [0.74250732 0.25749268]\n",
      " [0.71120225 0.28879775]\n",
      " [0.23776272 0.76223728]\n",
      " [0.75684106 0.24315894]\n",
      " [0.62428169 0.37571831]\n",
      " [0.84655248 0.15344752]\n",
      " [0.82711259 0.17288741]\n",
      " [0.8682563  0.1317437 ]\n",
      " [0.77003828 0.22996172]\n",
      " [0.82946349 0.17053651]\n",
      " [0.9033613  0.0966387 ]\n",
      " [0.73372048 0.26627952]\n",
      " [0.68847388 0.31152612]\n",
      " [0.07646869 0.92353131]\n",
      " [0.2253212  0.7746788 ]\n",
      " [0.87161942 0.12838058]\n",
      " [0.24075415 0.75924585]\n",
      " [0.62711735 0.37288265]\n",
      " [0.77003828 0.22996172]\n",
      " [0.90554276 0.09445724]\n",
      " [0.40602576 0.59397424]\n",
      " [0.93043587 0.06956413]\n",
      " [0.87650522 0.12349478]\n",
      " [0.69797423 0.30202577]\n",
      " [0.89664594 0.10335406]\n",
      " [0.21993378 0.78006622]\n",
      " [0.31565709 0.68434291]\n",
      " [0.37942229 0.62057771]\n",
      " [0.37932892 0.62067108]\n",
      " [0.07161279 0.92838721]\n",
      " [0.55777566 0.44222434]\n",
      " [0.07914487 0.92085513]\n",
      " [0.86803084 0.13196916]\n",
      " [0.50790061 0.49209939]\n",
      " [0.87065946 0.12934054]\n",
      " [0.85576407 0.14423593]\n",
      " [0.3487013  0.6512987 ]\n",
      " [0.71558417 0.28441583]\n",
      " [0.78853201 0.21146799]\n",
      " [0.7461921  0.2538079 ]\n",
      " [0.86429002 0.13570998]\n",
      " [0.84079005 0.15920995]\n",
      " [0.59838062 0.40161938]\n",
      " [0.73532081 0.26467919]\n",
      " [0.88705598 0.11294402]\n",
      " [0.54552802 0.45447198]\n",
      " [0.5532634  0.4467366 ]\n",
      " [0.62583528 0.37416472]\n",
      " [0.88363279 0.11636721]\n",
      " [0.35181256 0.64818744]\n",
      " [0.39903352 0.60096648]\n",
      " [0.08300812 0.91699188]\n",
      " [0.85072525 0.14927475]\n",
      " [0.86778821 0.13221179]\n",
      " [0.83070926 0.16929074]\n",
      " [0.87649044 0.12350956]\n",
      " [0.05959914 0.94040086]\n",
      " [0.78735759 0.21264241]\n",
      " [0.87065946 0.12934054]\n",
      " [0.716541   0.283459  ]\n",
      " [0.79159804 0.20840196]\n",
      " [0.20303096 0.79696904]\n",
      " [0.86429002 0.13570998]\n",
      " [0.2400505  0.7599495 ]\n",
      " [0.3712358  0.6287642 ]\n",
      " [0.08369624 0.91630376]\n",
      " [0.84018613 0.15981387]\n",
      " [0.07766718 0.92233282]\n",
      " [0.08973248 0.91026752]\n",
      " [0.84723079 0.15276921]\n",
      " [0.86241532 0.13758468]\n",
      " [0.16539726 0.83460274]\n",
      " [0.87065946 0.12934054]\n",
      " [0.87065946 0.12934054]\n",
      " [0.77003828 0.22996172]\n",
      " [0.75416741 0.24583259]\n",
      " [0.87065946 0.12934054]\n",
      " [0.37932892 0.62067108]\n",
      " [0.89883891 0.10116109]\n",
      " [0.07361401 0.92638599]\n",
      " [0.87897227 0.12102773]\n",
      " [0.60197829 0.39802171]\n",
      " [0.06738996 0.93261004]\n",
      " [0.47948277 0.52051723]\n",
      " [0.90469272 0.09530728]\n",
      " [0.05673721 0.94326279]\n",
      " [0.88180789 0.11819211]\n",
      " [0.45587967 0.54412033]\n",
      " [0.86133439 0.13866561]\n",
      " [0.84974931 0.15025069]\n",
      " [0.850727   0.149273  ]\n",
      " [0.5550275  0.4449725 ]\n",
      " [0.88426899 0.11573101]\n",
      " [0.84747419 0.15252581]\n",
      " [0.87269564 0.12730436]\n",
      " [0.67538691 0.32461309]\n",
      " [0.4827525  0.5172475 ]\n",
      " [0.8682563  0.1317437 ]\n",
      " [0.91597192 0.08402808]\n",
      " [0.84194204 0.15805796]\n",
      " [0.78872838 0.21127162]\n",
      " [0.11141752 0.88858248]\n",
      " [0.90534856 0.09465144]\n",
      " [0.87071645 0.12928355]\n",
      " [0.86905441 0.13094559]\n",
      " [0.91525793 0.08474207]\n",
      " [0.58196816 0.41803184]\n",
      " [0.98025013 0.01974987]\n",
      " [0.87071645 0.12928355]\n",
      " [0.8721902  0.1278098 ]\n",
      " [0.71194639 0.28805361]\n",
      " [0.34348895 0.65651105]\n",
      " [0.70226698 0.29773302]\n",
      " [0.06738996 0.93261004]\n",
      " [0.59805546 0.40194454]\n",
      " [0.32885343 0.67114657]\n",
      " [0.48644743 0.51355257]\n",
      " [0.42864816 0.57135184]\n",
      " [0.56346552 0.43653448]\n",
      " [0.25853142 0.74146858]\n",
      " [0.77643225 0.22356775]\n",
      " [0.87632449 0.12367551]\n",
      " [0.15009272 0.84990728]\n",
      " [0.13434695 0.86565305]\n",
      " [0.850727   0.149273  ]\n",
      " [0.86772104 0.13227896]\n",
      " [0.89628756 0.10371244]\n",
      " [0.88613341 0.11386659]\n",
      " [0.34797626 0.65202374]\n",
      " [0.89917049 0.10082951]\n",
      " [0.72997339 0.27002661]\n",
      " [0.12221446 0.87778554]\n",
      " [0.81719691 0.18280309]\n",
      " [0.61865109 0.38134891]\n",
      " [0.37370298 0.62629702]\n",
      " [0.38348343 0.61651657]\n",
      " [0.864633   0.135367  ]\n",
      " [0.25161297 0.74838703]\n",
      " [0.10388329 0.89611671]\n",
      " [0.5764806  0.4235194 ]\n",
      " [0.8547685  0.1452315 ]\n",
      " [0.31415124 0.68584876]\n",
      " [0.33907973 0.66092027]\n",
      " [0.84347721 0.15652279]\n",
      " [0.23261125 0.76738875]\n",
      " [0.88859275 0.11140725]\n",
      " [0.35220568 0.64779432]\n",
      " [0.5855486  0.4144514 ]\n",
      " [0.36143288 0.63856712]\n",
      " [0.13634058 0.86365942]\n",
      " [0.67797002 0.32202998]\n",
      " [0.88600085 0.11399915]\n",
      " [0.13946114 0.86053886]\n",
      " [0.87095491 0.12904509]\n",
      " [0.2061602  0.7938398 ]\n",
      " [0.76719904 0.23280096]\n",
      " [0.77437245 0.22562755]\n",
      " [0.50324026 0.49675974]\n",
      " [0.9107984  0.0892016 ]\n",
      " [0.8497074  0.1502926 ]\n",
      " [0.54874088 0.45125912]\n",
      " [0.48192068 0.51807932]]\n"
     ]
    }
   ],
   "source": [
    "pred_prob=lr_clf.predict_proba(test_x)\n",
    "print(pred_prob)"
   ]
  },
  {
   "cell_type": "code",
   "execution_count": 80,
   "metadata": {},
   "outputs": [
    {
     "name": "stdout",
     "output_type": "stream",
     "text": [
      "오차행렬\n",
      "[[97 21]\n",
      " [11 50]]\n",
      "정확도:0.8212290502793296, 정밀도:0.704225352112676, 재현율:0.819672131147541\n"
     ]
    }
   ],
   "source": [
    "from sklearn.preprocessing import Binarizer\n",
    "binariz=Binarizer(threshold=0.4)\n",
    "# => pred_prob[:,1].reshape(-1,1)  (1일 확률인 경우만 뽑아서 쓰기)\n",
    "binarizer_1=binariz.fit(pred_prob[:,1].reshape(-1,1))\n",
    "custom_predict=binarizer_1.transform(pred_prob[:,1].reshape(-1,1))\n",
    "get_clf_eval(test_y,custom_predict)"
   ]
  },
  {
   "cell_type": "markdown",
   "metadata": {},
   "source": [
    "### 4. F1 스코어"
   ]
  },
  {
   "cell_type": "markdown",
   "metadata": {},
   "source": [
    "+ f1 스코어는 정밀도와 재현율을 결합한 지표 / 어느 한쪽으로 치우치지 않는 수치를 나타낼 때 상대적으로 높은 값을 가짐\n",
    "\n",
    "f1= 2 * (precision * recall) / (precision+recall)"
   ]
  },
  {
   "cell_type": "code",
   "execution_count": 84,
   "metadata": {},
   "outputs": [
    {
     "data": {
      "text/plain": [
       "0.7966101694915254"
      ]
     },
     "execution_count": 84,
     "metadata": {},
     "output_type": "execute_result"
    }
   ],
   "source": [
    "from sklearn.metrics import f1_score\n",
    "f1=f1_score(test_y,pred_1)\n",
    "f1"
   ]
  },
  {
   "cell_type": "code",
   "execution_count": 85,
   "metadata": {},
   "outputs": [],
   "source": [
    "def get_clf_eval(y_test,pred):\n",
    "    confusion=confusion_matrix(y_test,pred)\n",
    "    accuracy=accuracy_score(y_test,pred)\n",
    "    precision=precision_score(y_test,pred)\n",
    "    recall=recall_score(y_test,pred)\n",
    "    f1=f1_score(y_test,pred)\n",
    "    print('오차행렬')\n",
    "    print(confusion)\n",
    "    print('정확도:{}, 정밀도:{}, 재현율:{}, f1:{}'.format(accuracy,precision,recall,f1))"
   ]
  },
  {
   "cell_type": "markdown",
   "metadata": {},
   "source": [
    "### 5. ROC 곡선과 AUC"
   ]
  },
  {
   "cell_type": "markdown",
   "metadata": {},
   "source": [
    "FPR(False Positive Rate)가 변할때 TPR(True Positive Rate)가 어떻게 변화하는지를 나타내는 곡선"
   ]
  },
  {
   "cell_type": "code",
   "execution_count": 86,
   "metadata": {},
   "outputs": [],
   "source": [
    "from sklearn.metrics import roc_curve"
   ]
  },
  {
   "cell_type": "code",
   "execution_count": 89,
   "metadata": {},
   "outputs": [
    {
     "data": {
      "text/plain": [
       "<matplotlib.legend.Legend at 0x1f8ab9afc50>"
      ]
     },
     "execution_count": 89,
     "metadata": {},
     "output_type": "execute_result"
    },
    {
     "data": {
      "image/png": "[encoded data removed]",
      "text/plain": [
       "<Figure size 432x288 with 1 Axes>"
      ]
     },
     "metadata": {
      "needs_background": "light"
     },
     "output_type": "display_data"
    }
   ],
   "source": [
    "import matplotlib.pyplot as plt\n",
    "pred_proba_class1=lr_clf.predict_proba(test_x)[:,1] # 1이 될 확률만 뽑아낸다\n",
    "fprs,tprs,thresholds=roc_curve(test_y,pred_proba_class1)\n",
    "plt.plot(fprs,tprs,label='ROC')\n",
    "plt.plot([0,1],[0,1],'k--',label='Random')\n",
    "start,end=plt.xlim()\n",
    "plt.xticks(np.round(np.arange(start,end,0.1),2))\n",
    "plt.xlim(0,1);plt.ylim(0,1)\n",
    "plt.legend()"
   ]
  },
  {
   "cell_type": "code",
   "execution_count": 90,
   "metadata": {},
   "outputs": [
    {
     "data": {
      "text/plain": [
       "0.842873020283412"
      ]
     },
     "execution_count": 90,
     "metadata": {},
     "output_type": "execute_result"
    }
   ],
   "source": [
    "from sklearn.metrics import roc_auc_score\n",
    "roc_auc_score(test_y,pred_1)"
   ]
  },
  {
   "cell_type": "code",
   "execution_count": 111,
   "metadata": {},
   "outputs": [],
   "source": [
    "def get_clf_eval(y_test,pred=None,pred_proba=None):\n",
    "    confusion=confusion_matrix(y_test,pred)\n",
    "    accuracy=accuracy_score(y_test,pred)\n",
    "    precision=precision_score(y_test,pred)\n",
    "    recall=recall_score(y_test,pred)\n",
    "    f1=f1_score(y_test,pred)\n",
    "    auc=roc_auc_score(y_test,pred_proba)\n",
    "    print('오차행렬')\n",
    "    print(confusion)\n",
    "    print('정확도:{}, 정밀도:{}, 재현율:{}, f1:{}, auc:{}'.format(accuracy,precision,recall,f1,auc))"
   ]
  },
  {
   "cell_type": "markdown",
   "metadata": {},
   "source": [
    "### 6. 피마 인디언 당뇨병 예측"
   ]
  },
  {
   "cell_type": "code",
   "execution_count": 93,
   "metadata": {},
   "outputs": [
    {
     "data": {
      "text/html": [
       "<div>\n",
       "<style scoped>\n",
       "    .dataframe tbody tr th:only-of-type {\n",
       "        vertical-align: middle;\n",
       "    }\n",
       "\n",
       "    .dataframe tbody tr th {\n",
       "        vertical-align: top;\n",
       "    }\n",
       "\n",
       "    .dataframe thead th {\n",
       "        text-align: right;\n",
       "    }\n",
       "</style>\n",
       "<table border=\"1\" class=\"dataframe\">\n",
       "  <thead>\n",
       "    <tr style=\"text-align: right;\">\n",
       "      <th></th>\n",
       "      <th>Pregnancies</th>\n",
       "      <th>Glucose</th>\n",
       "      <th>BloodPressure</th>\n",
       "      <th>SkinThickness</th>\n",
       "      <th>Insulin</th>\n",
       "      <th>BMI</th>\n",
       "      <th>DiabetesPedigreeFunction</th>\n",
       "      <th>Age</th>\n",
       "      <th>Outcome</th>\n",
       "    </tr>\n",
       "  </thead>\n",
       "  <tbody>\n",
       "    <tr>\n",
       "      <th>0</th>\n",
       "      <td>6</td>\n",
       "      <td>148</td>\n",
       "      <td>72</td>\n",
       "      <td>35</td>\n",
       "      <td>0</td>\n",
       "      <td>33.6</td>\n",
       "      <td>0.627</td>\n",
       "      <td>50</td>\n",
       "      <td>1</td>\n",
       "    </tr>\n",
       "    <tr>\n",
       "      <th>1</th>\n",
       "      <td>1</td>\n",
       "      <td>85</td>\n",
       "      <td>66</td>\n",
       "      <td>29</td>\n",
       "      <td>0</td>\n",
       "      <td>26.6</td>\n",
       "      <td>0.351</td>\n",
       "      <td>31</td>\n",
       "      <td>0</td>\n",
       "    </tr>\n",
       "    <tr>\n",
       "      <th>2</th>\n",
       "      <td>8</td>\n",
       "      <td>183</td>\n",
       "      <td>64</td>\n",
       "      <td>0</td>\n",
       "      <td>0</td>\n",
       "      <td>23.3</td>\n",
       "      <td>0.672</td>\n",
       "      <td>32</td>\n",
       "      <td>1</td>\n",
       "    </tr>\n",
       "    <tr>\n",
       "      <th>3</th>\n",
       "      <td>1</td>\n",
       "      <td>89</td>\n",
       "      <td>66</td>\n",
       "      <td>23</td>\n",
       "      <td>94</td>\n",
       "      <td>28.1</td>\n",
       "      <td>0.167</td>\n",
       "      <td>21</td>\n",
       "      <td>0</td>\n",
       "    </tr>\n",
       "  </tbody>\n",
       "</table>\n",
       "</div>"
      ],
      "text/plain": [
       "   Pregnancies  Glucose  BloodPressure  SkinThickness  Insulin   BMI  \\\n",
       "0            6      148             72             35        0  33.6   \n",
       "1            1       85             66             29        0  26.6   \n",
       "2            8      183             64              0        0  23.3   \n",
       "3            1       89             66             23       94  28.1   \n",
       "\n",
       "   DiabetesPedigreeFunction  Age  Outcome  \n",
       "0                     0.627   50        1  \n",
       "1                     0.351   31        0  \n",
       "2                     0.672   32        1  \n",
       "3                     0.167   21        0  "
      ]
     },
     "execution_count": 93,
     "metadata": {},
     "output_type": "execute_result"
    }
   ],
   "source": [
    "pima=pd.read_csv('C:/Desktop/Son/pima/diabetes.csv',engine='python')\n",
    "pima.head(4)"
   ]
  },
  {
   "cell_type": "code",
   "execution_count": 94,
   "metadata": {},
   "outputs": [
    {
     "data": {
      "text/plain": [
       "Pregnancies                 0\n",
       "Glucose                     0\n",
       "BloodPressure               0\n",
       "SkinThickness               0\n",
       "Insulin                     0\n",
       "BMI                         0\n",
       "DiabetesPedigreeFunction    0\n",
       "Age                         0\n",
       "Outcome                     0\n",
       "dtype: int64"
      ]
     },
     "execution_count": 94,
     "metadata": {},
     "output_type": "execute_result"
    }
   ],
   "source": [
    "pima.isna().sum() # 결측값 없다"
   ]
  },
  {
   "cell_type": "code",
   "execution_count": 95,
   "metadata": {},
   "outputs": [
    {
     "name": "stdout",
     "output_type": "stream",
     "text": [
      "0    500\n",
      "1    268\n",
      "Name: Outcome, dtype: int64\n"
     ]
    }
   ],
   "source": [
    "print(pima['Outcome'].value_counts()) # 불균형"
   ]
  },
  {
   "cell_type": "code",
   "execution_count": 97,
   "metadata": {},
   "outputs": [
    {
     "name": "stdout",
     "output_type": "stream",
     "text": [
      "<class 'pandas.core.frame.DataFrame'>\n",
      "RangeIndex: 768 entries, 0 to 767\n",
      "Data columns (total 9 columns):\n",
      "Pregnancies                 768 non-null int64\n",
      "Glucose                     768 non-null int64\n",
      "BloodPressure               768 non-null int64\n",
      "SkinThickness               768 non-null int64\n",
      "Insulin                     768 non-null int64\n",
      "BMI                         768 non-null float64\n",
      "DiabetesPedigreeFunction    768 non-null float64\n",
      "Age                         768 non-null int64\n",
      "Outcome                     768 non-null int64\n",
      "dtypes: float64(2), int64(7)\n",
      "memory usage: 54.1 KB\n",
      "None\n",
      "       Pregnancies     Glucose  BloodPressure  SkinThickness     Insulin  \\\n",
      "count   768.000000  768.000000     768.000000     768.000000  768.000000   \n",
      "mean      3.845052  120.894531      69.105469      20.536458   79.799479   \n",
      "std       3.369578   31.972618      19.355807      15.952218  115.244002   \n",
      "min       0.000000    0.000000       0.000000       0.000000    0.000000   \n",
      "25%       1.000000   99.000000      62.000000       0.000000    0.000000   \n",
      "50%       3.000000  117.000000      72.000000      23.000000   30.500000   \n",
      "75%       6.000000  140.250000      80.000000      32.000000  127.250000   \n",
      "max      17.000000  199.000000     122.000000      99.000000  846.000000   \n",
      "\n",
      "              BMI  DiabetesPedigreeFunction         Age     Outcome  \n",
      "count  768.000000                768.000000  768.000000  768.000000  \n",
      "mean    31.992578                  0.471876   33.240885    0.348958  \n",
      "std      7.884160                  0.331329   11.760232    0.476951  \n",
      "min      0.000000                  0.078000   21.000000    0.000000  \n",
      "25%     27.300000                  0.243750   24.000000    0.000000  \n",
      "50%     32.000000                  0.372500   29.000000    0.000000  \n",
      "75%     36.600000                  0.626250   41.000000    1.000000  \n",
      "max     67.100000                  2.420000   81.000000    1.000000  \n"
     ]
    }
   ],
   "source": [
    "print(pima.info())\n",
    "print(pima.describe())"
   ]
  },
  {
   "cell_type": "code",
   "execution_count": 100,
   "metadata": {},
   "outputs": [
    {
     "data": {
      "text/html": [
       "<div>\n",
       "<style scoped>\n",
       "    .dataframe tbody tr th:only-of-type {\n",
       "        vertical-align: middle;\n",
       "    }\n",
       "\n",
       "    .dataframe tbody tr th {\n",
       "        vertical-align: top;\n",
       "    }\n",
       "\n",
       "    .dataframe thead tr th {\n",
       "        text-align: left;\n",
       "    }\n",
       "\n",
       "    .dataframe thead tr:last-of-type th {\n",
       "        text-align: right;\n",
       "    }\n",
       "</style>\n",
       "<table border=\"1\" class=\"dataframe\">\n",
       "  <thead>\n",
       "    <tr>\n",
       "      <th></th>\n",
       "      <th colspan=\"2\" halign=\"left\">Pregnancies</th>\n",
       "      <th colspan=\"2\" halign=\"left\">Glucose</th>\n",
       "      <th colspan=\"2\" halign=\"left\">BloodPressure</th>\n",
       "      <th colspan=\"2\" halign=\"left\">SkinThickness</th>\n",
       "      <th colspan=\"2\" halign=\"left\">Insulin</th>\n",
       "      <th colspan=\"2\" halign=\"left\">BMI</th>\n",
       "      <th colspan=\"2\" halign=\"left\">DiabetesPedigreeFunction</th>\n",
       "      <th colspan=\"2\" halign=\"left\">Age</th>\n",
       "    </tr>\n",
       "    <tr>\n",
       "      <th></th>\n",
       "      <th>mean</th>\n",
       "      <th>var</th>\n",
       "      <th>mean</th>\n",
       "      <th>var</th>\n",
       "      <th>mean</th>\n",
       "      <th>var</th>\n",
       "      <th>mean</th>\n",
       "      <th>var</th>\n",
       "      <th>mean</th>\n",
       "      <th>var</th>\n",
       "      <th>mean</th>\n",
       "      <th>var</th>\n",
       "      <th>mean</th>\n",
       "      <th>var</th>\n",
       "      <th>mean</th>\n",
       "      <th>var</th>\n",
       "    </tr>\n",
       "    <tr>\n",
       "      <th>Outcome</th>\n",
       "      <th></th>\n",
       "      <th></th>\n",
       "      <th></th>\n",
       "      <th></th>\n",
       "      <th></th>\n",
       "      <th></th>\n",
       "      <th></th>\n",
       "      <th></th>\n",
       "      <th></th>\n",
       "      <th></th>\n",
       "      <th></th>\n",
       "      <th></th>\n",
       "      <th></th>\n",
       "      <th></th>\n",
       "      <th></th>\n",
       "      <th></th>\n",
       "    </tr>\n",
       "  </thead>\n",
       "  <tbody>\n",
       "    <tr>\n",
       "      <th>0</th>\n",
       "      <td>3.298000</td>\n",
       "      <td>9.103403</td>\n",
       "      <td>109.980000</td>\n",
       "      <td>683.362325</td>\n",
       "      <td>68.184000</td>\n",
       "      <td>326.274693</td>\n",
       "      <td>19.664000</td>\n",
       "      <td>221.710525</td>\n",
       "      <td>68.792000</td>\n",
       "      <td>9774.345427</td>\n",
       "      <td>30.304200</td>\n",
       "      <td>59.133870</td>\n",
       "      <td>0.429734</td>\n",
       "      <td>0.089452</td>\n",
       "      <td>31.190000</td>\n",
       "      <td>136.134168</td>\n",
       "    </tr>\n",
       "    <tr>\n",
       "      <th>1</th>\n",
       "      <td>4.865672</td>\n",
       "      <td>13.996870</td>\n",
       "      <td>141.257463</td>\n",
       "      <td>1020.139457</td>\n",
       "      <td>70.824627</td>\n",
       "      <td>461.897968</td>\n",
       "      <td>22.164179</td>\n",
       "      <td>312.572195</td>\n",
       "      <td>100.335821</td>\n",
       "      <td>19234.673319</td>\n",
       "      <td>35.142537</td>\n",
       "      <td>52.750693</td>\n",
       "      <td>0.550500</td>\n",
       "      <td>0.138648</td>\n",
       "      <td>37.067164</td>\n",
       "      <td>120.302588</td>\n",
       "    </tr>\n",
       "  </tbody>\n",
       "</table>\n",
       "</div>"
      ],
      "text/plain": [
       "        Pregnancies                Glucose              BloodPressure  \\\n",
       "               mean        var        mean          var          mean   \n",
       "Outcome                                                                 \n",
       "0          3.298000   9.103403  109.980000   683.362325     68.184000   \n",
       "1          4.865672  13.996870  141.257463  1020.139457     70.824627   \n",
       "\n",
       "                    SkinThickness                 Insulin                \\\n",
       "                var          mean         var        mean           var   \n",
       "Outcome                                                                   \n",
       "0        326.274693     19.664000  221.710525   68.792000   9774.345427   \n",
       "1        461.897968     22.164179  312.572195  100.335821  19234.673319   \n",
       "\n",
       "               BMI            DiabetesPedigreeFunction                  Age  \\\n",
       "              mean        var                     mean       var       mean   \n",
       "Outcome                                                                       \n",
       "0        30.304200  59.133870                 0.429734  0.089452  31.190000   \n",
       "1        35.142537  52.750693                 0.550500  0.138648  37.067164   \n",
       "\n",
       "                     \n",
       "                var  \n",
       "Outcome              \n",
       "0        136.134168  \n",
       "1        120.302588  "
      ]
     },
     "execution_count": 100,
     "metadata": {},
     "output_type": "execute_result"
    }
   ],
   "source": [
    "pima.groupby('Outcome').agg([np.mean,np.var])"
   ]
  },
  {
   "cell_type": "code",
   "execution_count": 112,
   "metadata": {},
   "outputs": [
    {
     "name": "stdout",
     "output_type": "stream",
     "text": [
      "오차행렬\n",
      "[[87 13]\n",
      " [22 32]]\n",
      "정확도:0.7727272727272727, 정밀도:0.7111111111111111, 재현율:0.5925925925925926, f1:0.6464646464646464, auc:0.8083333333333333\n"
     ]
    }
   ],
   "source": [
    "train_x,test_x,train_y,test_y=train_test_split(pima.iloc[:,:-1],pima.iloc[:,-1],test_size=0.2,random_state=156,stratify=pima.iloc[:,-1])\n",
    "lr_clf=LogisticRegression()\n",
    "lr_clf.fit(train_x,train_y)\n",
    "pred_2=lr_clf.predict(test_x)\n",
    "pred_prob_2=lr_clf.predict_proba(test_x)[:,1]\n",
    "get_clf_eval(test_y,pred_2,pred_prob_2)"
   ]
  },
  {
   "cell_type": "code",
   "execution_count": 115,
   "metadata": {},
   "outputs": [
    {
     "data": {
      "text/plain": [
       "array([0.7987037 , 0.80777778, 0.81962963, 0.86622642, 0.85037736])"
      ]
     },
     "execution_count": 115,
     "metadata": {},
     "output_type": "execute_result"
    }
   ],
   "source": [
    "from sklearn.model_selection import cross_val_score\n",
    "lr_clf_1=LogisticRegression()\n",
    "cross_val_score(lr_clf_1,pima.iloc[:,:-1],pima.iloc[:,-1],cv=5,scoring='roc_auc',n_jobs=-1)"
   ]
  },
  {
   "cell_type": "markdown",
   "metadata": {},
   "source": [
    "# 시간날 때 추가적으로 더 공부하기 (177~182)\n",
    "+ threshold 조정해가는거랑 최적의 f1 스코어 찾는거 등 여러개 해보기"
   ]
  }
 ],
 "metadata": {
  "kernelspec": {
   "display_name": "Python 3",
   "language": "python",
   "name": "python3"
  },
  "language_info": {
   "codemirror_mode": {
    "name": "ipython",
    "version": 3
   },
   "file_extension": ".py",
   "mimetype": "text/x-python",
   "name": "python",
   "nbconvert_exporter": "python",
   "pygments_lexer": "ipython3",
   "version": "3.7.3"
  }
 },
 "nbformat": 4,
 "nbformat_minor": 2
}
